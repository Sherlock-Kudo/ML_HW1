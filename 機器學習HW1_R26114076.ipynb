{
 "cells": [
  {
   "cell_type": "code",
   "execution_count": 91,
   "metadata": {},
   "outputs": [],
   "source": [
    "#載入套件\n",
    "import pandas as pd\n",
    "import numpy as np\n",
    "import sklearn.svm\n",
    "import random\n",
    "import time\n",
    "from sklearn import svm\n",
    "from sklearn.model_selection import train_test_split\n",
    "\n"
   ]
  },
  {
   "cell_type": "code",
   "execution_count": 92,
   "metadata": {},
   "outputs": [],
   "source": [
    "file_path='C:/Users/user/OneDrive/桌面/data .csv'\n",
    "\n",
    "\n",
    "\n",
    "#data資料\n",
    "#用pandas讀取資料\n",
    "def data_prepare_1(file_path):\n",
    "    df_file=pd.read_csv(file_path)\n",
    "    Y=df_file['Diagnosis'].map({'M':-1,'B':1}).to_numpy()\n",
    "    X=df_file.iloc[:,2:].to_numpy()\n",
    "    return X, Y\n",
    "X,Y=data_prepare_1(file_path)\n",
    "\n",
    "\n",
    "\n",
    "\n",
    "\n",
    "\n",
    "\n",
    "\n",
    "\n",
    "\n",
    "\n",
    "\n",
    "\n",
    "\n"
   ]
  },
  {
   "cell_type": "markdown",
   "metadata": {},
   "source": [
    "Please implement the Linear Classifier from scratch with the update rule in the slide. It means you cannot adopt any existing package like sklearn in this assignment. "
   ]
  },
  {
   "cell_type": "code",
   "execution_count": 93,
   "metadata": {},
   "outputs": [],
   "source": [
    "class LinearClassifier:\n",
    "    def __init__(self) -> None:\n",
    "        self.accl = 0\n",
    "        self.acc2 = 0\n",
    "\n",
    "\n",
    "\n",
    "\n",
    "    def linearClassifier(self,X,Y):\n",
    "        convergenceFlag = False\n",
    "        convergenceNumbers = 0\n",
    "        iterations = 0\n",
    "        #learning rate\n",
    "        r = 0.001\n",
    "        #array of number for shuffling\n",
    "        order = np.arange(0,len(X),1)\n",
    "        random.seed(1)\n",
    "        W = np.random.rand(X.shape[1])\n",
    "        b = np.random.random()\n",
    "        start_time = time.time()\n",
    "\n",
    "        while not convergenceFlag:\n",
    "            iterations += 1\n",
    "\n",
    "            random.shuffle(order)\n",
    "            for i in order:\n",
    "                F = X[i,:].reshape(len(X[i,:]))\n",
    "                label = Y[i]\n",
    "\n",
    "                #check if it is correct based on the current model\n",
    "                prediction = 1 if (np.dot(W,F)+b) > 0 else 0\n",
    "                if label*prediction < 0:\n",
    "                    #update all the weights\n",
    "                    for j in range (len(W)):\n",
    "                        W[j] = W[j] + r*(F[j]*label)\n",
    "                    b = b+ label\n",
    "                else:\n",
    "                    convergenceNumbers +=1\n",
    "            if iterations > 1000 or convergenceNumbers == len(Y):\n",
    "                convergenceFlag = True\n",
    "        print('---{} seconds ---'.format(time.time() - start_time)) \n",
    "        #calculate the accuracy\n",
    "        s = 0\n",
    "        acc1=0\n",
    "        for x,y in zip(X,Y):\n",
    "            pred = 1 if (np.dot(W,x)+b) > 0 else -1\n",
    "            if y==pred:\n",
    "                s +=1\n",
    "            acc1 = s / len(Y)\n",
    "        print('--- accuracy: {} ---'.format(acc1)) \n",
    "\n",
    "\n",
    "\n",
    "\n",
    "\n",
    "\n"
   ]
  },
  {
   "cell_type": "code",
   "execution_count": 94,
   "metadata": {},
   "outputs": [
    {
     "name": "stdout",
     "output_type": "stream",
     "text": [
      "---1.8462395668029785 seconds ---\n",
      "--- accuracy: 0.37258347978910367 ---\n"
     ]
    }
   ],
   "source": [
    "LinearClassifier().linearClassifier(X,Y)"
   ]
  },
  {
   "cell_type": "markdown",
   "metadata": {},
   "source": [
    "the \"J=WX+b\" Whencould be represented as the matrix form for the linear classifier, please find the solution by solving this equation using least-squared manner. Also, please implement it and make a comparison between this method and the previous one implemented in 2."
   ]
  },
  {
   "cell_type": "code",
   "execution_count": 95,
   "metadata": {},
   "outputs": [],
   "source": [
    "def LinearClassifierMatrixForm(X,Y):\n",
    "    Y = Y.reshape((len(Y),1))\n",
    "    w = np.zeros((X.shape[1], 1))\n",
    "    b = np.random.random(size=(len(X),1))\n",
    "\n",
    "    \n",
    "    start_time = time.time()\n",
    "    beta_hat = np.vstack((b,w))\n",
    "    designMatrix = np.hstack((np.ones((len(X),1)),X))\n",
    "    beta_hat =np.linalg.inv(designMatrix.T @ designMatrix) @ designMatrix.T @ Y\n",
    "\n",
    "    print('---{} seconds ---'.format(time.time() - start_time)) \n",
    "    \n",
    "    s=0\n",
    "    preds = [1 if item >0 else -1 for item in (np.dot(designMatrix,beta_hat))]           \n",
    "    for y,pred in zip(Y,preds):\n",
    "\n",
    "        if y == pred:\n",
    "            s +=1\n",
    "        acc1 = s / len(Y)\n",
    "    print('--- accuracy: {} ---'.format(acc1)) \n",
    "\n",
    "            \n",
    "\n",
    "\n",
    "\n",
    "    \n",
    "     \n",
    "\n"
   ]
  },
  {
   "cell_type": "code",
   "execution_count": 72,
   "metadata": {},
   "outputs": [
    {
     "name": "stdout",
     "output_type": "stream",
     "text": [
      "---0.0009984970092773438 seconds ---\n",
      "--- accuracy: 0.9648506151142355 ---\n"
     ]
    }
   ],
   "source": [
    "LinearClassifierMatrixForm(X,Y)"
   ]
  },
  {
   "cell_type": "markdown",
   "metadata": {},
   "source": [
    "Please implement the voted perception and make the performance comparison between methods."
   ]
  },
  {
   "cell_type": "code",
   "execution_count": 73,
   "metadata": {},
   "outputs": [],
   "source": [
    "class VotedPerceptron:\n",
    "    def __init__(self, n_iter)-> None:\n",
    "        self.n_iter = n_iter\n",
    "        self.V = []  # store the weights\n",
    "        self.C = []  # store the number of examples that set of weights got correct\n",
    "        self.k = 0\n",
    "    \n",
    "    def fit(self, x, y):\n",
    "        #change labels,0 ->-1,1-> 1\n",
    "        for i in range(len(y)):\n",
    "            if y[i] == 0:\n",
    "                y[i] = -1\n",
    "        k = 0\n",
    "        v = [np.ones_like(x[0])]\n",
    "        c = [0]\n",
    "        #train n_iter epoches\n",
    "        for epoch in range(self.n_iter): \n",
    "            #check if each X_i is classified right  \n",
    "            for i in range(len(x)):\n",
    "                pred = 1 if np.dot(v[k], x[i]) > 0 else -1 # checks the sing of v*k\n",
    "                if pred == y[i]: # checks if the prediction matches the real Y\n",
    "                    c[k] += 1 # increments c\n",
    "                else:\n",
    "                    v.append(np.add(v[k], np.dot(y[i], x[i])))\n",
    "                    c.append(1)\n",
    "                    k += 1\n",
    "        # #change labels,0 ->-1,1-> 1\n",
    "        for i in range(len(y)):\n",
    "            if y[i] == -1:\n",
    "                y[i] = 0          \n",
    "        self.V = v\n",
    "        self.C = c\n",
    "        self.k = k\n",
    "\n",
    "    #classifying\n",
    "    def predict(self, X):\n",
    "        preds = []\n",
    "        for x in X:\n",
    "            s = 0\n",
    "            for w,c in zip(self.V,self.C):\n",
    "                s = s + c*np.sign(np.dot(w,x))\n",
    "            preds.append(np.sign(1 if s>= 0 else 0))\n",
    "        return preds"
   ]
  },
  {
   "cell_type": "code",
   "execution_count": 74,
   "metadata": {},
   "outputs": [
    {
     "name": "stdout",
     "output_type": "stream",
     "text": [
      "Accuracy score:  0.9226713532513181\n",
      "Metrics Report\n",
      "              precision    recall  f1-score   support\n",
      "\n",
      "           0       0.93      0.85      0.89       212\n",
      "           1       0.92      0.96      0.94       357\n",
      "\n",
      "    accuracy                           0.92       569\n",
      "   macro avg       0.93      0.91      0.92       569\n",
      "weighted avg       0.92      0.92      0.92       569\n",
      "\n"
     ]
    }
   ],
   "source": [
    "from sklearn.metrics import accuracy_score\n",
    "from sklearn.metrics import classification_report\n",
    "v_perc = VotedPerceptron(n_iter=100)\n",
    "v_perc.fit(X, Y)\n",
    "Ypred = v_perc.predict(X)\n",
    "Y_tolist = Y.tolist()\n",
    "print('Accuracy score: ', accuracy_score(Y_tolist, Ypred))\n",
    "print('Metrics Report')\n",
    "print(classification_report(Y_tolist, Ypred))"
   ]
  },
  {
   "cell_type": "markdown",
   "metadata": {},
   "source": [
    " With minimizing the ||w||^2, it should drive the marginal to be maximized as well. Please implement the linear classifier with the minimum ||w||^2 property and verify whether the margin of this version is larger than that of the conventional linear classifier or not. "
   ]
  },
  {
   "cell_type": "code",
   "execution_count": 75,
   "metadata": {},
   "outputs": [],
   "source": [
    "def SVM1( X, Y):\n",
    "    Y = Y.reshape(len(Y),1)\n",
    "    w = np.ones_like(X[0])\n",
    "    b = np.random.random()\n",
    "    #learning rate\n",
    "    r = 0.01\n",
    "    iter = 0\n",
    "    start_time = time.time()\n",
    "    while iter < 100:\n",
    "        for i in range (len(X)):\n",
    "            pred = 1 if (np.dot (w,X[i]) + b) > 0 else -1\n",
    "            loss = np.linalg.norm(w,ord=2)**2\n",
    "            delta = 1e-4\n",
    "            if pred*Y[i] < 1:\n",
    "                for j in range (len(w)):\n",
    "                    w[j] -= r*(-Y[i]*X[i,j])*delta\n",
    "                b = b + Y[i]\n",
    "        iter += 1\n",
    "        \n",
    "    print('---{} seconds ---'.format(time.time() - start_time)) \n",
    "\n",
    "    #calculate the accuracy\n",
    "    s = 0\n",
    "    for x,y in zip(X,Y):\n",
    "        pred = 1 if (np.dot(w,x)+b) > 0 else 0\n",
    "        if y==pred:\n",
    "           s +=1\n",
    "    acc1 = s / len(Y)\n",
    "    print('--- accuracy: {} ---'.format(acc1)) \n",
    "\n",
    "              \n",
    "\n",
    "\n"
   ]
  },
  {
   "cell_type": "markdown",
   "metadata": {},
   "source": [
    "Based on 5, please add the slack variable term in the linear classifier and find the most effective weighting value C."
   ]
  },
  {
   "cell_type": "code",
   "execution_count": 96,
   "metadata": {},
   "outputs": [],
   "source": [
    "def SVM2( X, Y):\n",
    "    Y = Y.reshape(len(Y),1)\n",
    "    w = np.ones_like(X[0])\n",
    "    b = 0\n",
    "    #learning rate\n",
    "    r = 0.01\n",
    "    # constant of slack variable\n",
    "    k=0.1\n",
    "    #slack variable\n",
    "    slackVariables = np.zeros(len(X))\n",
    "\n",
    "    iter = 0\n",
    "    start_time = time.time()\n",
    "    while iter < 100:\n",
    "        for i in range (len(X)):\n",
    "            pred = 1 if (np.dot (w,X[i]) + b) >=0 else -1\n",
    "\n",
    "            for k in range (len(X)):\n",
    "                pred = 1 if (np.dot (w,X[k]) + b) >=0 else -1\n",
    "                slackVariables[i]==max(0,1-Y[i]*pred)\n",
    "\n",
    "\n",
    "\n",
    "\n",
    "            loss = np.linalg.norm(w,ord=2) + k*np.sum(slackVariables)\n",
    "            delta= 1e-4\n",
    "\n",
    "            if pred*Y[i] < 1:\n",
    "                for j in range (len(w)):\n",
    "                    w[j] -= r*(-Y[i]*X[i,j])*delta\n",
    "                b = b + Y[i]\n",
    "                \n",
    "        iter += 1\n",
    "        \n",
    "    print('---{} seconds ---'.format(time.time() - start_time)) \n",
    "\n",
    "    #calculate the accuracy\n",
    "    s = 0\n",
    "    for x,y in zip(X,Y):\n",
    "        pred = 1 if (np.dot(w,x)+b) > 0 else 0\n",
    "        if y==pred:\n",
    "           s +=1\n",
    "    acc2 = s / len(Y)\n",
    "    print('--- accuracy: {} ---'.format(acc2)) \n",
    "    \n",
    "\n",
    "              \n",
    "\n",
    "\n"
   ]
  },
  {
   "cell_type": "code",
   "execution_count": 97,
   "metadata": {},
   "outputs": [
    {
     "name": "stdout",
     "output_type": "stream",
     "text": [
      "---2.59289813041687 seconds ---\n",
      "--- accuracy: 0.5905096660808435 ---\n",
      "---326.135071516037 seconds ---\n",
      "--- accuracy: 0.012302284710017574 ---\n"
     ]
    }
   ],
   "source": [
    "\n",
    "SVM1(X,Y)\n",
    "SVM2(X,Y)\n"
   ]
  },
  {
   "cell_type": "markdown",
   "metadata": {},
   "source": [
    "Use any existing SVM package (libSVM, sklearn, or Matlab SVM), please make a performance comparison between the built-in SVM and your implementation."
   ]
  },
  {
   "cell_type": "code",
   "execution_count": 77,
   "metadata": {},
   "outputs": [
    {
     "name": "stdout",
     "output_type": "stream",
     "text": [
      "1.0\n",
      "0.5877192982456141\n"
     ]
    }
   ],
   "source": [
    "X_train, X_test, y_train, y_test = train_test_split(X, Y,test_size=0.2,random_state=0)\n",
    "clf=svm.SVC(kernel='rbf',C=1,gamma='auto')\n",
    "clf.fit(X_train,y_train)\n",
    "\n",
    "clf.predict(X_test)\n",
    "\n",
    "print(clf.score(X_train,y_train))\n",
    "print(clf.score(X_test, y_test))\n",
    "\n",
    "\n",
    "\n"
   ]
  },
  {
   "cell_type": "markdown",
   "metadata": {},
   "source": []
  },
  {
   "cell_type": "code",
   "execution_count": 98,
   "metadata": {},
   "outputs": [],
   "source": [
    "file_path='C:/Users/user/OneDrive/桌面/crx .csv'\n",
    "\n",
    "\n",
    "#crx資料\n",
    "def data_prepare_2(file_path):\n",
    "    df_file = pd.read_csv(file_path)\n",
    "    Y=df_file['label'].map({'+':1,'-':-1}).to_numpy()\n",
    "    X=df_file.iloc[:,:15]\n",
    "    X['att1']=X['att1'].map({'?':0,'a':-1,'b':1})\n",
    "    X['att2']=X['att2']=X['att2'].replace('?',0)\n",
    "    X['att2']=X['att2'].astype(float)\n",
    "    X['att4']=X['att4'].map({'?':0,'l':0,'u':1,'y':2})\n",
    "    X['att5']=X['att5'].map({'?':0,'g':1,'gg':2,'p':3})\n",
    "    X['att6']=X['att6'].map({'?':0,'aa':-7,'c':-6,'cc':-5,'d':-4,'e':-3,'ff':-2,'i':-1,'j':1,'k':2,'m':3,'q':4,'r':5,'w':6,'x':7})\n",
    "    X['att7']=X['att7'].map({'?':0,'bb':1,'dd':2,'ff':3,'h':4,'j':5,'n':6,'o':7,'v':8,'z':9})\n",
    "    X['att9']=X['att9'].map({'t':-1,'f':1})\n",
    "    X['att10']=X['att10'].map({'t':-1,'f':1})\n",
    "    X['att12']=X['att12'].map({'t':-1,'f':1})\n",
    "    X['att13']=X['att13'].map({'g':-1,'p':0,'s':1})\n",
    "    X['att14']=X['att14']=X['att14'].replace('?',0)\n",
    "    X['att14']=X['att14']=X['att14'].astype(float)\n",
    "    X = X.to_numpy()\n",
    "    return X,Y\n",
    "\n",
    "X,Y=data_prepare_2(file_path)"
   ]
  },
  {
   "cell_type": "markdown",
   "metadata": {},
   "source": [
    "Please implement the Linear Classifier from scratch with the update rule in the slide. It means you cannot adopt any existing package like sklearn in this assignment. "
   ]
  },
  {
   "cell_type": "code",
   "execution_count": 99,
   "metadata": {},
   "outputs": [],
   "source": [
    "class LinearClassifier:\n",
    "    def __init__(self) -> None:\n",
    "        self.accl = 0\n",
    "        self.acc2 = 0\n",
    "\n",
    "\n",
    "\n",
    "\n",
    "    def linearClassifier(self,X,Y):\n",
    "        convergenceFlag = False\n",
    "        convergenceNumbers = 0\n",
    "        iterations = 0\n",
    "        #learning rate\n",
    "        r = 0.001\n",
    "        #array of number for shuffling\n",
    "        order = np.arange(0,len(X),1)\n",
    "        random.seed(1)\n",
    "        W = np.random.rand(X.shape[1])\n",
    "        b = np.random.random()\n",
    "        start_time = time.time()\n",
    "\n",
    "        while not convergenceFlag:\n",
    "            iterations += 1\n",
    "\n",
    "            random.shuffle(order)\n",
    "            for i in order:\n",
    "                F = X[i,:].reshape(len(X[i,:]))\n",
    "                label = Y[i]\n",
    "\n",
    "                #check if it is correct based on the current model\n",
    "                prediction = 1 if (np.dot(W,F)+b) > 0 else 0\n",
    "                if label*prediction < 0:\n",
    "                    #update all the weights\n",
    "                    for j in range (len(W)):\n",
    "                        W[j] = W[j] + r*(F[j]*label)\n",
    "                    b = b+ label\n",
    "                else:\n",
    "                    convergenceNumbers +=1\n",
    "            if iterations > 1000 or convergenceNumbers == len(Y):\n",
    "                convergenceFlag = True\n",
    "        print('---{} seconds ---'.format(time.time() - start_time)) \n",
    "        #calculate the accuracy\n",
    "        s = 0\n",
    "        acc1=0\n",
    "        for x,y in zip(X,Y):\n",
    "            pred = 1 if (np.dot(W,x)+b) > 0 else -1\n",
    "            if y==pred:\n",
    "                s +=1\n",
    "            acc1 = s / len(Y)\n",
    "        print('--- accuracy: {} ---'.format(acc1)) \n",
    "\n",
    "\n",
    "\n",
    "\n",
    "\n",
    "\n"
   ]
  },
  {
   "cell_type": "code",
   "execution_count": 82,
   "metadata": {},
   "outputs": [
    {
     "name": "stdout",
     "output_type": "stream",
     "text": [
      "---2.5536739826202393 seconds ---\n",
      "--- accuracy: 0.5579710144927537 ---\n"
     ]
    }
   ],
   "source": [
    "LinearClassifier().linearClassifier(X,Y)"
   ]
  },
  {
   "cell_type": "markdown",
   "metadata": {},
   "source": [
    "When the \"J=WX+b\" could be represented as the matrix form for the linear classifier, please find the solution by solving this equation using least-squared manner. Also, please implement it and make a comparison between this method and the previous one implemented in 2."
   ]
  },
  {
   "cell_type": "code",
   "execution_count": 83,
   "metadata": {},
   "outputs": [],
   "source": [
    "def LinearClassifierMatrixForm(X,Y):\n",
    "    Y = Y.reshape((len(Y),1))\n",
    "    w = np.zeros((X.shape[1], 1))\n",
    "    b = np.random.random(size=(len(X),1))\n",
    "\n",
    "    \n",
    "    start_time = time.time()\n",
    "    beta_hat = np.vstack((b,w))\n",
    "    designMatrix = np.hstack((np.ones((len(X),1)),X))\n",
    "    beta_hat =np.linalg.inv(designMatrix.T @ designMatrix) @ designMatrix.T @ Y\n",
    "\n",
    "    print('---{} seconds ---'.format(time.time() - start_time)) \n",
    "    \n",
    "    s=0\n",
    "    preds = [1 if item >0 else -1 for item in (np.dot(designMatrix,beta_hat))]           \n",
    "    for y,pred in zip(Y,preds):\n",
    "\n",
    "        if y == pred:\n",
    "            s +=1\n",
    "        acc1 = s / len(Y)\n",
    "    print('--- accuracy: {} ---'.format(acc1))            \n"
   ]
  },
  {
   "cell_type": "code",
   "execution_count": 84,
   "metadata": {},
   "outputs": [
    {
     "name": "stdout",
     "output_type": "stream",
     "text": [
      "---0.12566590309143066 seconds ---\n",
      "--- accuracy: 0.8594202898550725 ---\n"
     ]
    }
   ],
   "source": [
    "LinearClassifierMatrixForm(X,Y)"
   ]
  },
  {
   "cell_type": "markdown",
   "metadata": {},
   "source": [
    "Please implement the voted perception and make the performance comparison between methods."
   ]
  },
  {
   "cell_type": "code",
   "execution_count": 85,
   "metadata": {},
   "outputs": [],
   "source": [
    "class VotedPerceptron:\n",
    "    def __init__(self, n_iter)-> None:\n",
    "        self.n_iter = n_iter\n",
    "        self.V = []  # store the weights\n",
    "        self.C = []  # store the number of examples that set of weights got correct\n",
    "        self.k = 0\n",
    "    \n",
    "    def fit(self, x, y):\n",
    "        #change labels,0 ->-1,1-> 1\n",
    "        for i in range(len(y)):\n",
    "            if y[i] == 0:\n",
    "                y[i] = -1\n",
    "        k = 0\n",
    "        v = [np.ones_like(x[0])]\n",
    "        c = [0]\n",
    "        #train n_iter epoches\n",
    "        for epoch in range(self.n_iter): \n",
    "            #check if each X_i is classified right  \n",
    "            for i in range(len(x)):\n",
    "                pred = 1 if np.dot(v[k], x[i]) > 0 else -1 # checks the sing of v*k\n",
    "                if pred == y[i]: # checks if the prediction matches the real Y\n",
    "                    c[k] += 1 # increments c\n",
    "                else:\n",
    "                    v.append(np.add(v[k], np.dot(y[i], x[i])))\n",
    "                    c.append(1)\n",
    "                    k += 1\n",
    "        # #change labels,0 ->-1,1-> 1\n",
    "        for i in range(len(y)):\n",
    "            if y[i] == -1:\n",
    "                y[i] = 0          \n",
    "        self.V = v\n",
    "        self.C = c\n",
    "        self.k = k\n",
    "\n",
    "    #classifying\n",
    "    def predict(self, X):\n",
    "        preds = []\n",
    "        for x in X:\n",
    "            s = 0\n",
    "            for w,c in zip(self.V,self.C):\n",
    "                s = s + c*np.sign(np.dot(w,x))\n",
    "            preds.append(np.sign(1 if s>= 0 else 0))\n",
    "        return preds"
   ]
  },
  {
   "cell_type": "code",
   "execution_count": 86,
   "metadata": {},
   "outputs": [
    {
     "name": "stdout",
     "output_type": "stream",
     "text": [
      "Accuracy score:  0.6434782608695652\n",
      "Metrics Report\n",
      "              precision    recall  f1-score   support\n",
      "\n",
      "           0       0.68      0.66      0.67       383\n",
      "           1       0.60      0.62      0.61       307\n",
      "\n",
      "    accuracy                           0.64       690\n",
      "   macro avg       0.64      0.64      0.64       690\n",
      "weighted avg       0.65      0.64      0.64       690\n",
      "\n"
     ]
    }
   ],
   "source": [
    "from sklearn.metrics import accuracy_score\n",
    "from sklearn.metrics import classification_report\n",
    "v_perc = VotedPerceptron(n_iter=100)\n",
    "v_perc.fit(X, Y)\n",
    "Ypred = v_perc.predict(X)\n",
    "Y_tolist = Y.tolist()\n",
    "print('Accuracy score: ', accuracy_score(Y_tolist, Ypred))\n",
    "print('Metrics Report')\n",
    "print(classification_report(Y_tolist, Ypred))"
   ]
  },
  {
   "cell_type": "markdown",
   "metadata": {},
   "source": [
    "With minimizing the ||w||^2, it should drive the marginal to be maximized as well. Please implement the linear classifier with the minimum ||w||^2 property and verify whether the margin of this version is larger than that of the conventional linear classifier or not."
   ]
  },
  {
   "cell_type": "code",
   "execution_count": 100,
   "metadata": {},
   "outputs": [],
   "source": [
    "def SVM1( X, Y):\n",
    "    Y = Y.reshape(len(Y),1)\n",
    "    w = np.ones_like(X[0])\n",
    "    b = np.random.random()\n",
    "    #learning rate\n",
    "    r = 0.01\n",
    "    iter = 0\n",
    "    start_time = time.time()\n",
    "    while iter < 100:\n",
    "        for i in range (len(X)):\n",
    "            pred = 1 if (np.dot (w,X[i]) + b) > 0 else -1\n",
    "            loss = np.linalg.norm(w,ord=2)**2\n",
    "            delta = 1e-4\n",
    "            if pred*Y[i] < 1:\n",
    "                for j in range (len(w)):\n",
    "                    w[j] -= r*(-Y[i]*X[i,j])*delta\n",
    "                b = b + Y[i]\n",
    "        iter += 1\n",
    "        \n",
    "    print('---{} seconds ---'.format(time.time() - start_time)) \n",
    "\n",
    "    #calculate the accuracy\n",
    "    s = 0\n",
    "    for x,y in zip(X,Y):\n",
    "        pred = 1 if (np.dot(w,x)+b) > 0 else 0\n",
    "        if y==pred:\n",
    "           s +=1\n",
    "    acc1 = s / len(Y)\n",
    "    print('--- accuracy: {} ---'.format(acc1)) "
   ]
  },
  {
   "cell_type": "markdown",
   "metadata": {},
   "source": [
    "Based on 5, please add the slack variable term in the linear classifier and find the most effective weighting value C."
   ]
  },
  {
   "cell_type": "code",
   "execution_count": 101,
   "metadata": {},
   "outputs": [],
   "source": [
    "def SVM2( X, Y):\n",
    "    Y = Y.reshape(len(Y),1)\n",
    "    w = np.ones_like(X[0])\n",
    "    b = 0\n",
    "    #learning rate\n",
    "    r = 0.01\n",
    "    # constant of slack variable\n",
    "    k=0.1\n",
    "    #slack variable\n",
    "    slackVariables = np.zeros(len(X))\n",
    "\n",
    "    iter = 0\n",
    "    start_time = time.time()\n",
    "    while iter < 100:\n",
    "        for i in range (len(X)):\n",
    "            pred = 1 if (np.dot (w,X[i]) + b) >=0 else -1\n",
    "\n",
    "            for k in range (len(X)):\n",
    "                pred = 1 if (np.dot (w,X[k]) + b) >=0 else -1\n",
    "                slackVariables[i]==max(0,1-Y[i]*pred)\n",
    "\n",
    "\n",
    "\n",
    "\n",
    "            loss = np.linalg.norm(w,ord=2) + k*np.sum(slackVariables)\n",
    "            delta= 1e-4\n",
    "\n",
    "            if pred*Y[i] < 1:\n",
    "                for j in range (len(w)):\n",
    "                    w[j] -= r*(-Y[i]*X[i,j])*delta\n",
    "                b = b + Y[i]\n",
    "                \n",
    "        iter += 1\n",
    "        \n",
    "    print('---{} seconds ---'.format(time.time() - start_time)) \n",
    "\n",
    "    #calculate the accuracy\n",
    "    s = 0\n",
    "    for x,y in zip(X,Y):\n",
    "        pred = 1 if (np.dot(w,x)+b) > 0 else 0\n",
    "        if y==pred:\n",
    "           s +=1\n",
    "    acc2 = s / len(Y)\n",
    "    print('--- accuracy: {} ---'.format(acc2)) "
   ]
  },
  {
   "cell_type": "code",
   "execution_count": 102,
   "metadata": {},
   "outputs": [
    {
     "name": "stdout",
     "output_type": "stream",
     "text": [
      "---2.9647107124328613 seconds ---\n",
      "--- accuracy: 0.20434782608695654 ---\n",
      "---487.6715142726898 seconds ---\n",
      "--- accuracy: 0.42028985507246375 ---\n"
     ]
    }
   ],
   "source": [
    "\n",
    "SVM1(X,Y)\n",
    "SVM2(X,Y)\n"
   ]
  },
  {
   "cell_type": "markdown",
   "metadata": {},
   "source": [
    "Use any existing SVM package (libSVM, sklearn, or Matlab SVM), please make a performance comparison between the built-in SVM and your implementation."
   ]
  },
  {
   "cell_type": "code",
   "execution_count": 90,
   "metadata": {},
   "outputs": [
    {
     "name": "stdout",
     "output_type": "stream",
     "text": [
      "1.0\n",
      "0.5507246376811594\n"
     ]
    }
   ],
   "source": [
    "X_train, X_test, y_train, y_test = train_test_split(X, Y,test_size=0.2,random_state=0)\n",
    "clf=svm.SVC(kernel='rbf',C=1,gamma='auto')\n",
    "clf.fit(X_train,y_train)\n",
    "\n",
    "clf.predict(X_test)\n",
    "\n",
    "print(clf.score(X_train,y_train))\n",
    "print(clf.score(X_test, y_test))\n",
    "\n"
   ]
  }
 ],
 "metadata": {
  "kernelspec": {
   "display_name": "Python 3.10.6 64-bit",
   "language": "python",
   "name": "python3"
  },
  "language_info": {
   "codemirror_mode": {
    "name": "ipython",
    "version": 3
   },
   "file_extension": ".py",
   "mimetype": "text/x-python",
   "name": "python",
   "nbconvert_exporter": "python",
   "pygments_lexer": "ipython3",
   "version": "3.10.6"
  },
  "orig_nbformat": 4,
  "vscode": {
   "interpreter": {
    "hash": "22ac92fa7380955e9d5490c736288b96d340f6eeb2db5956448ab0593e5495af"
   }
  }
 },
 "nbformat": 4,
 "nbformat_minor": 2
}
